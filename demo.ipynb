{
 "cells": [
  {
   "cell_type": "code",
   "execution_count": 1,
   "metadata": {},
   "outputs": [],
   "source": [
    "from dotenv import dotenv_values\n",
    "from redash_python import Redash"
   ]
  },
  {
   "cell_type": "code",
   "execution_count": 18,
   "metadata": {},
   "outputs": [],
   "source": [
    "config = dotenv_values(\".env\")\n",
    "host = config.get(\"REDASH_API_HOST\")\n",
    "api_key = config.get(\"REDASH_API_KEY\")\n",
    "\n",
    "redash = Redash(api_key=api_key, base_url=host)"
   ]
  },
  {
   "cell_type": "code",
   "execution_count": 19,
   "metadata": {},
   "outputs": [
    {
     "data": {
      "text/plain": [
       "namespace(id=62,\n",
       "          slug='abubakaryagob_dashboard',\n",
       "          name='abubakaryagob_dashboard',\n",
       "          user_id=1,\n",
       "          user=namespace(id=1,\n",
       "                         name='Abubakar Yagoub',\n",
       "                         email='abubakaryagob@gmail.com',\n",
       "                         profile_image_url='https://www.gravatar.com/avatar/61064d1b87b8601d5a5b621ac1e83443?s=40&d=identicon'),\n",
       "          layout=[],\n",
       "          dashboard_filters_enabled=False,\n",
       "          widgets=None,\n",
       "          options=namespace(),\n",
       "          is_archived=False,\n",
       "          is_draft=False,\n",
       "          tags=[],\n",
       "          updated_at='2022-08-08T09:32:14.629Z',\n",
       "          created_at='2022-08-08T09:32:11.068Z',\n",
       "          version=2,\n",
       "          is_favorite=False)"
      ]
     },
     "execution_count": 19,
     "metadata": {},
     "output_type": "execute_result"
    }
   ],
   "source": [
    "dashs = redash.dashboards\n",
    "\n",
    "dashs.get_all().results[0]"
   ]
  },
  {
   "cell_type": "code",
   "execution_count": 20,
   "metadata": {},
   "outputs": [
    {
     "data": {
      "text/plain": [
       "DashboardsService(methods: ['create', 'get', 'get_all', 'get_id', 'get_slug', 'update'])"
      ]
     },
     "execution_count": 20,
     "metadata": {},
     "output_type": "execute_result"
    }
   ],
   "source": [
    "redash.dashboards"
   ]
  },
  {
   "cell_type": "code",
   "execution_count": null,
   "metadata": {},
   "outputs": [],
   "source": []
  }
 ],
 "metadata": {
  "kernelspec": {
   "display_name": "Python 3.9.9 64-bit ('py-stable')",
   "language": "python",
   "name": "python3"
  },
  "language_info": {
   "codemirror_mode": {
    "name": "ipython",
    "version": 3
   },
   "file_extension": ".py",
   "mimetype": "text/x-python",
   "name": "python",
   "nbconvert_exporter": "python",
   "pygments_lexer": "ipython3",
   "version": "3.9.9"
  },
  "orig_nbformat": 4,
  "vscode": {
   "interpreter": {
    "hash": "57938f70ac5e08351c8a76ed1209f2b5cdd6a6772b65f32df2b84e1dd84b589d"
   }
  }
 },
 "nbformat": 4,
 "nbformat_minor": 2
}
